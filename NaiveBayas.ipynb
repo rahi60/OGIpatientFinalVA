{
 "cells": [
  {
   "cell_type": "code",
   "execution_count": 1,
   "id": "c8c4a098",
   "metadata": {},
   "outputs": [
    {
     "name": "stdout",
     "output_type": "stream",
     "text": [
      "[[10  1  9]\n",
      " [ 1  1 17]\n",
      " [ 2  0 20]]\n",
      "              precision    recall  f1-score   support\n",
      "\n",
      "           0       0.77      0.50      0.61        20\n",
      "           1       0.50      0.05      0.10        19\n",
      "           2       0.43      0.91      0.59        22\n",
      "\n",
      "    accuracy                           0.51        61\n",
      "   macro avg       0.57      0.49      0.43        61\n",
      "weighted avg       0.56      0.51      0.44        61\n",
      "\n",
      "output: [2 2 2 2 2 2 2 1 1 2 0 0 0 2 2 0 2 2 2 2 2 2 2 2 2 2 0 2 0 2 2 0 2 2 2 2 2\n",
      " 2 2 2 2 0 2 0 2 2 2 2 0 0 2 2 0 2 2 2 0 2 2 2 2]\n",
      "test accuracy: 0.5081967213114754\n"
     ]
    },
    {
     "data": {
      "text/plain": [
       "Text(0.5, 1.0, 'Confusion matrix of NB')"
      ]
     },
     "execution_count": 1,
     "metadata": {},
     "output_type": "execute_result"
    },
    {
     "data": {
      "image/png": "[encoded data removed]",
      "text/plain": [
       "<Figure size 432x288 with 2 Axes>"
      ]
     },
     "metadata": {
      "needs_background": "light"
     },
     "output_type": "display_data"
    }
   ],
   "source": [
    "from sklearn.naive_bayes import GaussianNB\n",
    "import pandas as pd\n",
    "from sklearn import preprocessing\n",
    "import matplotlib.pyplot as plt\n",
    "import numpy as np\n",
    "from sklearn.model_selection import train_test_split\n",
    "import seaborn as sns\n",
    "from sklearn.preprocessing import StandardScaler\n",
    "from sklearn.metrics import classification_report, confusion_matrix\n",
    "%matplotlib inline\n",
    "\n",
    "def convert(data):\n",
    "    number = preprocessing.LabelEncoder()\n",
    "    data['age'] = number.fit_transform(data.age)\n",
    "    data['gender'] = number.fit_transform(data.gender)\n",
    "    data['type'] = number.fit_transform(data.type)\n",
    "    data['gradeVA'] = number.fit_transform(data.gradeVA)\n",
    "    data['RAPD'] = number.fit_transform(data.RAPD)\n",
    "    data['zone'] = number.fit_transform(data.zone)\n",
    "    data['traumaticcataract'] = number.fit_transform(data.traumaticcataract)\n",
    "    data['TON'] = number.fit_transform(data.TON)\n",
    "    data['FB'] = number.fit_transform(data.FB)\n",
    "    data['RD'] = number.fit_transform(data.RD)\n",
    "    data['Endophthalmitis'] = number.fit_transform(data.Endophthalmitis)\n",
    "    data['OTStotalscore'] = number.fit_transform(data.OTStotalscore)\n",
    "    data['lastFUBGrade'] = number.fit_transform(data.lastFUBGrade)       \n",
    "    data=data.fillna(-999)\n",
    "    return data\n",
    "\n",
    "data = pd.read_csv(\"ogithreeCat.csv\")\n",
    "data = convert(data)\n",
    "\n",
    "temp = data.drop('lastFUBGrade', axis=1)\n",
    "y = data['lastFUBGrade']\n",
    "X  = (temp-np.min(temp))/(np.max(temp)-np.min(temp))\n",
    "X_train, X_test, y_train, y_test = train_test_split(X, y, test_size = 0.20)\n",
    "model = GaussianNB()\n",
    "model.fit(X_train, y_train)\n",
    "y_pred = model.predict(X_test)\n",
    "\n",
    "print(confusion_matrix(y_test,y_pred))\n",
    "print(classification_report(y_test,y_pred))\n",
    "print (\"output:\", y_pred)\n",
    "print(\"test accuracy:\",model.score(X_test,y_test))\n",
    "\n",
    "cm = confusion_matrix(y_test,y_pred)\n",
    "sns.heatmap(cm, annot=True, fmt='d').set_title('Confusion matrix of NB') # fmt='d' formats the numbers as digits, which means integers\n",
    "\n"
   ]
  },
  {
   "cell_type": "code",
   "execution_count": 2,
   "id": "56a60f17",
   "metadata": {},
   "outputs": [
    {
     "name": "stdout",
     "output_type": "stream",
     "text": [
      "Accuracy: 0.5806451612903226\n",
      "Accuracy: 0.7\n",
      "Accuracy: 0.6\n",
      "Accuracy: 0.5666666666666667\n",
      "Accuracy: 0.5333333333333333\n",
      "Accuracy: 0.7333333333333333\n",
      "Accuracy: 0.6333333333333333\n",
      "Accuracy: 0.6333333333333333\n",
      "Accuracy: 0.7666666666666667\n",
      "Accuracy: 0.6666666666666666\n",
      "output: [2 2 2 2 2 2 2 1 1 2 0 0 0 2 2 0 2 2 2 2 2 2 2 2 2 2 0 2 0 2 2 0 2 2 2 2 2\n",
      " 2 2 2 2 0 2 0 2 2 2 2 0 0 2 2 0 2 2 2 0 2 2 2 2]\n",
      "test accuracy: 0.6666666666666666\n"
     ]
    }
   ],
   "source": [
    "from sklearn.naive_bayes import GaussianNB\n",
    "import pandas as pd\n",
    "from sklearn import preprocessing\n",
    "from sklearn.model_selection import cross_val_score\n",
    "from sklearn.model_selection import KFold\n",
    "import matplotlib.pyplot as plt\n",
    "import numpy as np\n",
    "from sklearn.model_selection import train_test_split\n",
    "import seaborn as sns\n",
    "from sklearn.preprocessing import StandardScaler\n",
    "from sklearn.metrics import classification_report, confusion_matrix\n",
    "%matplotlib inline\n",
    "\n",
    "def convert(data):\n",
    "    number = preprocessing.LabelEncoder()\n",
    "    data['age'] = number.fit_transform(data.age)\n",
    "    data['gender'] = number.fit_transform(data.gender)\n",
    "    data['type'] = number.fit_transform(data.type)\n",
    "    data['gradeVA'] = number.fit_transform(data.gradeVA)\n",
    "    data['RAPD'] = number.fit_transform(data.RAPD)\n",
    "    data['zone'] = number.fit_transform(data.zone)\n",
    "    data['traumaticcataract'] = number.fit_transform(data.traumaticcataract)\n",
    "    data['TON'] = number.fit_transform(data.TON)\n",
    "    data['FB'] = number.fit_transform(data.FB)\n",
    "    data['RD'] = number.fit_transform(data.RD)\n",
    "    data['Endophthalmitis'] = number.fit_transform(data.Endophthalmitis)\n",
    "    data['OTStotalscore'] = number.fit_transform(data.OTStotalscore)\n",
    "    data['lastFUBGrade'] = number.fit_transform(data.lastFUBGrade)       \n",
    "    data=data.fillna(-999)\n",
    "    return data\n",
    "\n",
    "data = pd.read_csv(\"ogithreeCat.csv\")\n",
    "data = convert(data)\n",
    "\n",
    "temp = data.drop('lastFUBGrade', axis=1)\n",
    "y = data['lastFUBGrade']\n",
    "X  = (temp-np.min(temp))/(np.max(temp)-np.min(temp))\n",
    "X_train, X_test, y_train, y_test = train_test_split(X, y, test_size = 0.20)\n",
    "\n",
    "kf = KFold(n_splits=10, random_state=42, shuffle=True)\n",
    "\n",
    "model = GaussianNB()\n",
    "for train_index, test_index in kf.split(X):\n",
    "   #split the data\n",
    "   X_train, X_test = X.iloc[train_index], X.iloc[test_index]\n",
    "   y_train, y_test = y.iloc[train_index], y.iloc[test_index]\n",
    "   #fit the model\n",
    "   model.fit(X_train, y_train)\n",
    "   #make predictions\n",
    "   predictions = model.predict(X_test)\n",
    "   #calculate accuracy\n",
    "   accuracy = model.score(X_test, y_test)\n",
    "   print('Accuracy:', accuracy)\n",
    "    \n",
    "    \n",
    "print (\"output:\", y_pred) \n",
    "print(\"test accuracy:\",model.score(X_test,y_test))\n"
   ]
  },
  {
   "cell_type": "code",
   "execution_count": null,
   "id": "d87b865c",
   "metadata": {},
   "outputs": [],
   "source": []
  }
 ],
 "metadata": {
  "kernelspec": {
   "display_name": "Python 3",
   "language": "python",
   "name": "python3"
  },
  "language_info": {
   "codemirror_mode": {
    "name": "ipython",
    "version": 3
   },
   "file_extension": ".py",
   "mimetype": "text/x-python",
   "name": "python",
   "nbconvert_exporter": "python",
   "pygments_lexer": "ipython3",
   "version": "3.8.8"
  }
 },
 "nbformat": 4,
 "nbformat_minor": 5
}
