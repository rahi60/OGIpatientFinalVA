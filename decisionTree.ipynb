{
 "cells": [
  {
   "cell_type": "code",
   "execution_count": 1,
   "id": "07d7834f",
   "metadata": {},
   "outputs": [
    {
     "name": "stdout",
     "output_type": "stream",
     "text": [
      "Accuracy of the model is: 0.7213114754098361\n",
      "[[12  1  3]\n",
      " [ 4 15  3]\n",
      " [ 0  6 17]]\n",
      "              precision    recall  f1-score   support\n",
      "\n",
      "           0       0.75      0.75      0.75        16\n",
      "           1       0.68      0.68      0.68        22\n",
      "           2       0.74      0.74      0.74        23\n",
      "\n",
      "    accuracy                           0.72        61\n",
      "   macro avg       0.72      0.72      0.72        61\n",
      "weighted avg       0.72      0.72      0.72        61\n",
      "\n",
      "output: [2 1 0 0 2 1 0 1 1 2 0 1 1 1 0 2 0 2 0 2 1 1 1 1 2 2 1 0 1 2 1 0 2 2 0 2 0\n",
      " 2 0 0 2 2 0 1 1 1 1 1 0 2 2 1 1 2 2 2 1 0 2 2 2]\n"
     ]
    },
    {
     "data": {
      "text/plain": [
       "Text(0.5, 1.0, 'Confusion matrix of descision tree')"
      ]
     },
     "execution_count": 1,
     "metadata": {},
     "output_type": "execute_result"
    },
    {
     "data": {
      "image/png": "[encoded data removed]",
      "text/plain": [
       "<Figure size 432x288 with 2 Axes>"
      ]
     },
     "metadata": {
      "needs_background": "light"
     },
     "output_type": "display_data"
    }
   ],
   "source": [
    "import pandas as pd\n",
    "from sklearn.tree import DecisionTreeClassifier\n",
    "from sklearn.model_selection import train_test_split\n",
    "from sklearn.metrics import accuracy_score\n",
    "from sklearn import tree\n",
    "from sklearn import preprocessing\n",
    "import matplotlib.pyplot as plt\n",
    "import numpy as np\n",
    "from sklearn.model_selection import train_test_split\n",
    "import seaborn as sns\n",
    "from sklearn.preprocessing import StandardScaler\n",
    "from sklearn.metrics import classification_report, confusion_matrix\n",
    "%matplotlib inline\n",
    "\n",
    "def convert(data):\n",
    "    number = preprocessing.LabelEncoder()\n",
    "    data['age'] = number.fit_transform(data.age)\n",
    "    data['gender'] = number.fit_transform(data.gender)\n",
    "    data['type'] = number.fit_transform(data.type)\n",
    "    data['gradeVA'] = number.fit_transform(data.gradeVA)\n",
    "    data['RAPD'] = number.fit_transform(data.RAPD)\n",
    "    data['zone'] = number.fit_transform(data.zone)\n",
    "    data['traumaticcataract'] = number.fit_transform(data.traumaticcataract)\n",
    "    data['TON'] = number.fit_transform(data.TON)\n",
    "    data['FB'] = number.fit_transform(data.FB)\n",
    "    data['RD'] = number.fit_transform(data.RD)\n",
    "    data['Endophthalmitis'] = number.fit_transform(data.Endophthalmitis)\n",
    "    data['OTStotalscore'] = number.fit_transform(data.OTStotalscore)\n",
    "    data['lastFUBGrade'] = number.fit_transform(data.lastFUBGrade)   \n",
    "    data=data.fillna(-999)\n",
    "    return data\n",
    "\n",
    "ogidata = pd.read_csv(\"normalizedogithreeCat.csv\")\n",
    "ogidata = convert(ogidata)\n",
    "temp = ogidata.drop('lastFUBGrade', axis=1)\n",
    "y = ogidata['lastFUBGrade']\n",
    "X  = (temp-np.min(temp))/(np.max(temp)-np.min(temp))\n",
    "X_train,X_test,y_train,y_test = train_test_split(X,y,test_size=0.2,random_state=0)\n",
    "\n",
    "\n",
    "model = DecisionTreeClassifier()\n",
    "\n",
    "\n",
    "model.fit(X_train,y_train)\n",
    "\n",
    "y_pred = model.predict(X_test)\n",
    "\n",
    "\n",
    "accuracy = accuracy_score(y_test,y_pred)\n",
    "\n",
    "print(\"Accuracy of the model is:\",accuracy)\n",
    "\n",
    "print(confusion_matrix(y_test,y_pred))\n",
    "print(classification_report(y_test,y_pred))\n",
    "print (\"output:\", y_pred)\n",
    "cm = confusion_matrix(y_test,y_pred)\n",
    "sns.heatmap(cm, annot=True, fmt='d').set_title('Confusion matrix of descision tree') # fmt='d' formats the numbers as digits, which means integers\n",
    "\n",
    "\n",
    "\n"
   ]
  },
  {
   "cell_type": "code",
   "execution_count": 2,
   "id": "4574e5c1",
   "metadata": {},
   "outputs": [
    {
     "name": "stdout",
     "output_type": "stream",
     "text": [
      "Accuracy: 0.7419354838709677\n",
      "Accuracy: 0.7\n",
      "Accuracy: 0.6333333333333333\n",
      "Accuracy: 0.6333333333333333\n",
      "Accuracy: 0.6666666666666666\n",
      "Accuracy: 0.7666666666666667\n",
      "Accuracy: 0.7\n",
      "Accuracy: 0.7333333333333333\n",
      "Accuracy: 0.8\n",
      "Accuracy: 0.7333333333333333\n",
      "output: [0 1 2 2 2 2 2 2 2 2 2 2 2 2 1 1 2 1 2 1 1 2 1 1 0 1 1 0 2 1]\n",
      "test accuracy: 0.7333333333333333\n",
      "[[ 2  1  0]\n",
      " [ 1  7  3]\n",
      " [ 0  3 13]]\n",
      "              precision    recall  f1-score   support\n",
      "\n",
      "           0       0.67      0.67      0.67         3\n",
      "           1       0.64      0.64      0.64        11\n",
      "           2       0.81      0.81      0.81        16\n",
      "\n",
      "    accuracy                           0.73        30\n",
      "   macro avg       0.71      0.71      0.71        30\n",
      "weighted avg       0.73      0.73      0.73        30\n",
      "\n",
      "output: [0 1 2 2 2 2 2 2 2 2 2 2 2 2 1 1 2 1 2 1 1 2 1 1 0 1 1 0 2 1]\n"
     ]
    },
    {
     "data": {
      "text/plain": [
       "Text(0.5, 1.0, 'Confusion matrix of descision tree')"
      ]
     },
     "execution_count": 2,
     "metadata": {},
     "output_type": "execute_result"
    },
    {
     "data": {
      "image/png": "[encoded data removed]",
      "text/plain": [
       "<Figure size 432x288 with 2 Axes>"
      ]
     },
     "metadata": {
      "needs_background": "light"
     },
     "output_type": "display_data"
    }
   ],
   "source": [
    "import pandas as pd\n",
    "from sklearn.tree import DecisionTreeClassifier\n",
    "from sklearn.model_selection import cross_val_score\n",
    "from sklearn.model_selection import KFold\n",
    "from sklearn.model_selection import train_test_split\n",
    "from sklearn.metrics import accuracy_score\n",
    "from sklearn import tree\n",
    "from sklearn import preprocessing\n",
    "import matplotlib.pyplot as plt\n",
    "import numpy as np\n",
    "from sklearn.model_selection import train_test_split\n",
    "import seaborn as sns\n",
    "from sklearn.preprocessing import StandardScaler\n",
    "from sklearn.metrics import classification_report, confusion_matrix\n",
    "%matplotlib inline\n",
    "\n",
    "def convert(data):\n",
    "    number = preprocessing.LabelEncoder()\n",
    "    data['age'] = number.fit_transform(data.age)\n",
    "    data['gender'] = number.fit_transform(data.gender)\n",
    "    data['type'] = number.fit_transform(data.type)\n",
    "    data['gradeVA'] = number.fit_transform(data.gradeVA)\n",
    "    data['RAPD'] = number.fit_transform(data.RAPD)\n",
    "    data['zone'] = number.fit_transform(data.zone)\n",
    "    data['traumaticcataract'] = number.fit_transform(data.traumaticcataract)\n",
    "    data['TON'] = number.fit_transform(data.TON)\n",
    "    data['FB'] = number.fit_transform(data.FB)\n",
    "    data['RD'] = number.fit_transform(data.RD)\n",
    "    data['Endophthalmitis'] = number.fit_transform(data.Endophthalmitis)\n",
    "    data['OTStotalscore'] = number.fit_transform(data.OTStotalscore)\n",
    "    data['lastFUBGrade'] = number.fit_transform(data.lastFUBGrade)   \n",
    "    data=data.fillna(-999)\n",
    "    return data\n",
    "\n",
    "ogidata = pd.read_csv(\"normalizedogithreeCat.csv\")\n",
    "ogidata = convert(ogidata)\n",
    "temp = ogidata.drop('lastFUBGrade', axis=1)\n",
    "y = ogidata['lastFUBGrade']\n",
    "X  = (temp-np.min(temp))/(np.max(temp)-np.min(temp))\n",
    "\n",
    "\n",
    "kf = KFold(n_splits=10, random_state=42, shuffle=True)\n",
    "\n",
    "model = DecisionTreeClassifier()\n",
    "for train_index, test_index in kf.split(X):\n",
    "   #split the data\n",
    "   X_train, X_test = X.iloc[train_index], X.iloc[test_index]\n",
    "   y_train, y_test = y.iloc[train_index], y.iloc[test_index]\n",
    "   #fit the model\n",
    "   model.fit(X_train, y_train)\n",
    "   #make predictions\n",
    "   predictions = model.predict(X_test)\n",
    "   #calculate accuracy\n",
    "   accuracy = model.score(X_test, y_test)\n",
    "   print('Accuracy:', accuracy)\n",
    "    \n",
    "print (\"output:\", predictions) \n",
    "print(\"test accuracy:\",model.score(X_test,y_test))\n",
    "\n",
    "print(confusion_matrix(y_test,predictions))\n",
    "print(classification_report(y_test,predictions))\n",
    "print (\"output:\", predictions)\n",
    "cm = confusion_matrix(y_test,predictions)\n",
    "sns.heatmap(cm, annot=True, fmt='d').set_title('Confusion matrix of descision tree') # fmt='d' formats the numbers as digits, which means integers\n",
    "\n",
    "\n",
    "\n"
   ]
  },
  {
   "cell_type": "code",
   "execution_count": null,
   "id": "8f326432",
   "metadata": {},
   "outputs": [],
   "source": []
  }
 ],
 "metadata": {
  "kernelspec": {
   "display_name": "Python 3",
   "language": "python",
   "name": "python3"
  },
  "language_info": {
   "codemirror_mode": {
    "name": "ipython",
    "version": 3
   },
   "file_extension": ".py",
   "mimetype": "text/x-python",
   "name": "python",
   "nbconvert_exporter": "python",
   "pygments_lexer": "ipython3",
   "version": "3.8.8"
  }
 },
 "nbformat": 4,
 "nbformat_minor": 5
}
